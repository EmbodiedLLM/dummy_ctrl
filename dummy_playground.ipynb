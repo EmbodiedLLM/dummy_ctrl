{
 "cells": [
  {
   "cell_type": "code",
   "execution_count": 2,
   "metadata": {},
   "outputs": [],
   "source": [
    "import fibre\n",
    "import numpy as np\n",
    "\n",
    "from __future__ import print_function\n",
    "logger = fibre.utils.Logger(verbose=True)"
   ]
  },
  {
   "cell_type": "markdown",
   "metadata": {},
   "source": [
    "## 机械臂的SN码可以通过`lsusb`命令查看"
   ]
  },
  {
   "cell_type": "code",
   "execution_count": null,
   "metadata": {},
   "outputs": [],
   "source": [
    "teach_arm = fibre.find_any(serial_number=\"396636713233\", logger=logger)"
   ]
  },
  {
   "cell_type": "markdown",
   "metadata": {},
   "source": [
    "## RPC连上后,每一个层级都可以直接打印查看"
   ]
  },
  {
   "cell_type": "code",
   "execution_count": null,
   "metadata": {},
   "outputs": [],
   "source": [
    "teach_arm"
   ]
  },
  {
   "cell_type": "code",
   "execution_count": null,
   "metadata": {},
   "outputs": [],
   "source": [
    "teach_arm.robot"
   ]
  },
  {
   "cell_type": "code",
   "execution_count": null,
   "metadata": {},
   "outputs": [],
   "source": [
    "teach_arm.robot.joint_1"
   ]
  },
  {
   "cell_type": "code",
   "execution_count": null,
   "metadata": {},
   "outputs": [],
   "source": [
    "teach_arm.robot.hand"
   ]
  },
  {
   "cell_type": "markdown",
   "metadata": {},
   "source": [
    "## 接着让我们来测试一些功能"
   ]
  },
  {
   "cell_type": "markdown",
   "metadata": {},
   "source": [
    "### 机械臂MoveJ"
   ]
  },
  {
   "cell_type": "code",
   "execution_count": null,
   "metadata": {},
   "outputs": [],
   "source": [
    "teach_arm.robot.set_enable(True)\n",
    "teach_arm.robot.move_j(0, 0, 90, 0, 0, 0)"
   ]
  },
  {
   "cell_type": "markdown",
   "metadata": {},
   "source": [
    "### 获取所有关节角度(获取到的这个角度是电机的关节机械角, 和运动学模型角度之间存在一个固定的offset)"
   ]
  },
  {
   "cell_type": "code",
   "execution_count": 10,
   "metadata": {},
   "outputs": [],
   "source": [
    "joint_offset = np.array([0,-73,180,0,0,0])"
   ]
  },
  {
   "cell_type": "code",
   "execution_count": null,
   "metadata": {},
   "outputs": [],
   "source": []
  },
  {
   "cell_type": "code",
   "execution_count": null,
   "metadata": {},
   "outputs": [],
   "source": [
    "all_joint_angles = teach_arm.robot.joint_1.angle, teach_arm.robot.joint_2.angle, teach_arm.robot.joint_3.angle, teach_arm.robot.joint_4.angle, teach_arm.robot.joint_5.angle, teach_arm.robot.joint_6.angle\n",
    "all_joint_angles = np.round(np.array(all_joint_angles))\n",
    "all_joint_angles = all_joint_angles + joint_offset\n",
    "all_joint_angles"
   ]
  },
  {
   "cell_type": "markdown",
   "metadata": {},
   "source": [
    "### 获取当前末端位姿(旋转使用ZYX欧拉角序列(也称为RPY - Roll, Pitch, Yaw))"
   ]
  },
  {
   "cell_type": "code",
   "execution_count": null,
   "metadata": {},
   "outputs": [],
   "source": [
    "def get_current_pose():\n",
    "    teach_arm.robot.eef_pose.update_pose_6D()\n",
    "    x,y,z,rz,ry,rx = teach_arm.robot.eef_pose.x, teach_arm.robot.eef_pose.y, teach_arm.robot.eef_pose.z, teach_arm.robot.eef_pose.a, teach_arm.robot.eef_pose.b, teach_arm.robot.eef_pose.c\n",
    "    current_pose = np.array([x,y,z,rz,ry,rx])\n",
    "    return current_pose\n",
    "\n",
    "current_pose = get_current_pose()\n",
    "current_pose\n"
   ]
  },
  {
   "cell_type": "markdown",
   "metadata": {},
   "source": [
    "### 机械臂MoveL(直接控制末端在笛卡尔空间运动, 输入单位是mm)"
   ]
  },
  {
   "cell_type": "code",
   "execution_count": null,
   "metadata": {},
   "outputs": [],
   "source": [
    "# 沿着x轴方向移动10mm\n",
    "teach_arm.robot.move_l(current_pose[0]+10, current_pose[1], current_pose[2], current_pose[3], current_pose[4], current_pose[5])\n",
    "current_pose = get_current_pose()\n",
    "current_pose"
   ]
  },
  {
   "cell_type": "code",
   "execution_count": null,
   "metadata": {},
   "outputs": [],
   "source": [
    "# 沿着z轴方向移动10mm\n",
    "teach_arm.robot.move_l(current_pose[0], current_pose[1], current_pose[2]+10, current_pose[3], current_pose[4], current_pose[5])\n",
    "current_pose = get_current_pose()\n",
    "current_pose\n"
   ]
  },
  {
   "cell_type": "markdown",
   "metadata": {},
   "source": [
    "### 归巢"
   ]
  },
  {
   "cell_type": "code",
   "execution_count": 5,
   "metadata": {},
   "outputs": [],
   "source": [
    "teach_arm.robot.resting()"
   ]
  },
  {
   "cell_type": "markdown",
   "metadata": {},
   "source": [
    "### 复位回到home pose"
   ]
  },
  {
   "cell_type": "code",
   "execution_count": null,
   "metadata": {},
   "outputs": [],
   "source": [
    "teach_arm.robot.move_j(0, 0, 90, 0, 0, 0)"
   ]
  },
  {
   "cell_type": "markdown",
   "metadata": {},
   "source": [
    "### 示教臂的夹爪实时位置读取"
   ]
  },
  {
   "cell_type": "code",
   "execution_count": 6,
   "metadata": {},
   "outputs": [],
   "source": [
    "## 让夹爪电机进入零力矩状态\n",
    "teach_arm.robot.hand.set_mode(0)\n",
    "teach_arm.robot.hand.set_torque(0)"
   ]
  },
  {
   "cell_type": "code",
   "execution_count": null,
   "metadata": {},
   "outputs": [],
   "source": [
    "teach_arm.robot.set_enable(False)\n",
    "## 拖动夹爪然后查看角度变化\n",
    "rate = 2  # 50Hz\n",
    "def get_current_pose():\n",
    "    teach_arm.robot.eef_pose.update_pose_6D()\n",
    "    x,y,z,rz,ry,rx = teach_arm.robot.eef_pose.x, teach_arm.robot.eef_pose.y, teach_arm.robot.eef_pose.z, teach_arm.robot.eef_pose.a, teach_arm.robot.eef_pose.b, teach_arm.robot.eef_pose.c\n",
    "    current_pose = np.array([x,y,z,rz,ry,rx])\n",
    "    return current_pose\n",
    "\n",
    "\n",
    "import time\n",
    "while True:\n",
    "    start_time = time.time()\n",
    "    current_pose = get_current_pose()\n",
    "    print(current_pose)\n",
    "    time.sleep(1/rate)\n",
    "    print(teach_arm.robot.hand.angle)"
   ]
  },
  {
   "cell_type": "code",
   "execution_count": null,
   "metadata": {},
   "outputs": [],
   "source": []
  },
  {
   "cell_type": "code",
   "execution_count": null,
   "metadata": {},
   "outputs": [],
   "source": [
    "teach_arm.robot.set_enable(False)\n",
    "import time\n",
    "rate = 0.1  # 10Hz\n",
    "## 让夹爪电机进入零力矩状态\n",
    "teach_arm.robot.hand.set_mode(0)\n",
    "teach_arm.robot.hand.set_torque(0)\n",
    "while True:\n",
    "    start_time = time.time()\n",
    "    joint1_angle = teach_arm.robot.joint_1.angle\n",
    "    joint2_angle = teach_arm.robot.joint_2.angle\n",
    "    joint3_angle = teach_arm.robot.joint_3.angle\n",
    "    joint4_angle = teach_arm.robot.joint_4.angle\n",
    "    joint5_angle = teach_arm.robot.joint_5.angle\n",
    "    joint6_angle = teach_arm.robot.joint_6.angle\n",
    "    # print(f\"Current leader Joints: {joint1_angle}, {joint2_angle}, {joint3_angle}, {joint4_angle}, {joint5_angle}, {joint6_angle}\")\n",
    "    all_joint_angles = np.array([joint1_angle, joint2_angle, joint3_angle, joint4_angle, joint5_angle, joint6_angle]) + joint_offset\n",
    "    all_joint_angles = np.round(all_joint_angles, 0)\n",
    "    # print(\"Current gripper: \",teach_arm.robot.hand.angle)\n",
    "    # joint1_qpos = teach_arm.robot.joint_1.position\n",
    "    joint1_qvel = teach_arm.robot.joint_1.velocity\n",
    "    print( \"qvel: \", joint1_qvel)\n",
    "    joint2_qvel = teach_arm.robot.joint_2.velocity\n",
    "    joint3_qvel = teach_arm.robot.joint_3.velocity\n",
    "    joint4_qvel = teach_arm.robot.joint_4.velocity\n",
    "    joint5_qvel = teach_arm.robot.joint_5.velocity\n",
    "    joint6_qvel = teach_arm.robot.joint_6.velocity\n",
    "    print( \"qvel: \", joint2_qvel, joint3_qvel, joint4_qvel, joint5_qvel, joint6_qvel)\n",
    "    # follow_arm.robot.move_j(all_joint_angles[0], all_joint_angles[1], all_joint_angles[2], all_joint_angles[3], all_joint_angles[4], all_joint_angles[5])\n",
    "    # follow_arm.robot.hand.set_angle(teach_arm.robot.hand.angle - teach_hand_init_angle + follow_hand_init_angle)\n",
    "    # print(f\"Current follower Joints (state): {all_joint_angles}\")\n",
    "    # collector.collect_step(\n",
    "    # teach_joints=np.array([joint1_angle, joint2_angle, joint3_angle, \n",
    "    #                         joint4_angle, joint5_angle, joint6_angle]),\n",
    "    # follow_joints=all_joint_angles,\n",
    "    # teach_gripper=teach_arm.robot.hand.angle,\n",
    "    # follow_gripper=follow_arm.robot.hand.angle\n",
    "    # )\n",
    "    # Sleep precisely to maintain 10Hz\n",
    "    elapsed = time.time() - start_time\n",
    "    if elapsed < rate:\n",
    "        time.sleep(rate - elapsed)\n",
    "    \n",
    "    # Calculate and print actual loop frequency\n",
    "    loop_time = time.time() - start_time\n",
    "    actual_freq = 1.0 / loop_time if loop_time > 0 else 0\n",
    "    print(f\"Current loop frequency: {actual_freq:.2f} Hz\")"
   ]
  },
  {
   "cell_type": "markdown",
   "metadata": {},
   "source": [
    "### 示教臂的夹爪实时力矩读取(即将支持,硬件施工中)"
   ]
  },
  {
   "cell_type": "code",
   "execution_count": null,
   "metadata": {},
   "outputs": [],
   "source": []
  },
  {
   "cell_type": "markdown",
   "metadata": {},
   "source": [
    "### Follow Arm相机测试"
   ]
  },
  {
   "cell_type": "code",
   "execution_count": null,
   "metadata": {},
   "outputs": [],
   "source": [
    "import cv2\n",
    "mjpg_streamer_url = \"http://192.168.65.110:8080/?action=stream\"\n",
    "cap = cv2.VideoCapture(mjpg_streamer_url)\n",
    "while True:\n",
    "    ret, frame = cap.read()\n",
    "    cv2.imshow(\"frame\", frame)\n",
    "    cv2.waitKey(1)\n",
    "cv2.destroyAllWindows()"
   ]
  },
  {
   "cell_type": "code",
   "execution_count": null,
   "metadata": {},
   "outputs": [],
   "source": []
  },
  {
   "cell_type": "markdown",
   "metadata": {},
   "source": [
    "# 校准机械臂初始状态"
   ]
  },
  {
   "cell_type": "code",
   "execution_count": 25,
   "metadata": {},
   "outputs": [
    {
     "name": "stdout",
     "output_type": "stream",
     "text": [
      "\u001b[0mConfigurationValue 1\n",
      "\tInterfaceNumber 0,0\n",
      "\t\tEndpointAddress 130\n",
      "\tInterfaceNumber 1,0\n",
      "\t\tEndpointAddress 1\n",
      "\t\tEndpointAddress 129\n",
      "\tInterfaceNumber 2,0\n",
      "\t\tEndpointAddress 3\n",
      "\t\tEndpointAddress 131\n",
      "\u001b[0m\n",
      "\u001b[0mKernel Driver was not attached\u001b[0m\n",
      "\u001b[0mEndpointAddress for writing 3\u001b[0m\n",
      "\u001b[0mEndpointAddress for reading 131\u001b[0m\n",
      "\u001b[0mConnecting to device on USB device bus 1 device 1\u001b[0m\n",
      "\u001b[0mDevice reported JSON version ID: 579930592\u001b[0m\n",
      "\u001b[0mJSON: [\n",
      "{'name': '', 'id': 0, 'type': 'json', 'access': 'r'}, \n",
      "{'name': 'serial_number', 'id': 1, 'type': 'uint64', 'access': 'r'}, \n",
      "{'name': 'get_temperature', 'id': 2, 'type': 'function', 'inputs': [], 'outputs': [\n",
      "{'name': 'result', 'id': 3, 'type': 'float', 'access': 'rw'}]}, \n",
      "{'name': 'get_voltage', 'id': 4, 'type': 'function', 'inputs': [], 'outputs': [\n",
      "{'name': 'result', 'id': 5, 'type': 'float', 'access': 'rw'}]}, \n",
      "{'name': 'robot', 'type': 'object', 'members': [\n",
      "{'name': 'calibrate_home_offset', 'id': 6, 'type': 'function', 'inputs': [], 'outputs': []}, \n",
      "{'name': 'homing', 'id': 7, 'type': 'function', 'inputs': [], 'outputs': []}, \n",
      "{'name': 'resting', 'id': 8, 'type': 'function', 'inputs': [], 'outputs': []}, \n",
      "{'name': 'joint_1', 'type': 'object', 'members': [\n",
      "{'name': 'angle', 'id': 9, 'type': 'float', 'access': 'r'}, \n",
      "{'name': 'velocity', 'id': 10, 'type': 'float', 'access': 'r'}, \n",
      "{'name': 'reboot', 'id': 11, 'type': 'function', 'inputs': [], 'outputs': []}, \n",
      "{'name': 'get_temperature', 'id': 12, 'type': 'function', 'inputs': [], 'outputs': [\n",
      "{'name': 'result', 'id': 13, 'type': 'uint32', 'access': 'rw'}]}, \n",
      "{'name': 'set_enable_temperature', 'id': 14, 'type': 'function', 'inputs': [\n",
      "{'name': 'enable', 'id': 15, 'type': 'bool', 'access': 'rw'}], 'outputs': []}, \n",
      "{'name': 'erase_configs', 'id': 16, 'type': 'function', 'inputs': [], 'outputs': []}, \n",
      "{'name': 'set_enable', 'id': 17, 'type': 'function', 'inputs': [\n",
      "{'name': 'enable', 'id': 18, 'type': 'bool', 'access': 'rw'}], 'outputs': []}, \n",
      "{'name': 'set_position_with_time', 'id': 19, 'type': 'function', 'inputs': [\n",
      "{'name': 'pos', 'id': 20, 'type': 'float', 'access': 'rw'}, \n",
      "{'name': 'time', 'id': 21, 'type': 'float', 'access': 'rw'}], 'outputs': []}, \n",
      "{'name': 'set_position', 'id': 22, 'type': 'function', 'inputs': [\n",
      "{'name': 'pos', 'id': 23, 'type': 'float', 'access': 'rw'}], 'outputs': []}, \n",
      "{'name': 'set_velocity', 'id': 24, 'type': 'function', 'inputs': [\n",
      "{'name': 'vel', 'id': 25, 'type': 'float', 'access': 'rw'}], 'outputs': []}, \n",
      "{'name': 'set_velocity_limit', 'id': 26, 'type': 'function', 'inputs': [\n",
      "{'name': 'vel', 'id': 27, 'type': 'float', 'access': 'rw'}], 'outputs': []}, \n",
      "{'name': 'set_current', 'id': 28, 'type': 'function', 'inputs': [\n",
      "{'name': 'current', 'id': 29, 'type': 'float', 'access': 'rw'}], 'outputs': []}, \n",
      "{'name': 'set_current_limit', 'id': 30, 'type': 'function', 'inputs': [\n",
      "{'name': 'current', 'id': 31, 'type': 'float', 'access': 'rw'}], 'outputs': []}, \n",
      "{'name': 'set_node_id', 'id': 32, 'type': 'function', 'inputs': [\n",
      "{'name': 'id', 'id': 33, 'type': 'uint32', 'access': 'rw'}], 'outputs': []}, \n",
      "{'name': 'set_acceleration', 'id': 34, 'type': 'function', 'inputs': [\n",
      "{'name': 'acc', 'id': 35, 'type': 'float', 'access': 'rw'}], 'outputs': []}, \n",
      "{'name': 'apply_home_offset', 'id': 36, 'type': 'function', 'inputs': [], 'outputs': []}, \n",
      "{'name': 'do_calibration', 'id': 37, 'type': 'function', 'inputs': [], 'outputs': []}, \n",
      "{'name': 'set_enable_on_boot', 'id': 38, 'type': 'function', 'inputs': [\n",
      "{'name': 'enable', 'id': 39, 'type': 'bool', 'access': 'rw'}], 'outputs': []}, \n",
      "{'name': 'set_dce_kp', 'id': 40, 'type': 'function', 'inputs': [\n",
      "{'name': 'vel', 'id': 41, 'type': 'int32', 'access': 'rw'}], 'outputs': []}, \n",
      "{'name': 'set_dce_kv', 'id': 42, 'type': 'function', 'inputs': [\n",
      "{'name': 'vel', 'id': 43, 'type': 'int32', 'access': 'rw'}], 'outputs': []}, \n",
      "{'name': 'set_dce_ki', 'id': 44, 'type': 'function', 'inputs': [\n",
      "{'name': 'vel', 'id': 45, 'type': 'int32', 'access': 'rw'}], 'outputs': []}, \n",
      "{'name': 'set_dce_kd', 'id': 46, 'type': 'function', 'inputs': [\n",
      "{'name': 'vel', 'id': 47, 'type': 'int32', 'access': 'rw'}], 'outputs': []}, \n",
      "{'name': 'set_enable_stall_protect', 'id': 48, 'type': 'function', 'inputs': [\n",
      "{'name': 'enable', 'id': 49, 'type': 'bool', 'access': 'rw'}], 'outputs': []}, \n",
      "{'name': 'update_angle', 'id': 50, 'type': 'function', 'inputs': [], 'outputs': []}]}, \n",
      "{'name': 'joint_2', 'type': 'object', 'members': [\n",
      "{'name': 'angle', 'id': 51, 'type': 'float', 'access': 'r'}, \n",
      "{'name': 'velocity', 'id': 52, 'type': 'float', 'access': 'r'}, \n",
      "{'name': 'reboot', 'id': 53, 'type': 'function', 'inputs': [], 'outputs': []}, \n",
      "{'name': 'get_temperature', 'id': 54, 'type': 'function', 'inputs': [], 'outputs': [\n",
      "{'name': 'result', 'id': 55, 'type': 'uint32', 'access': 'rw'}]}, \n",
      "{'name': 'set_enable_temperature', 'id': 56, 'type': 'function', 'inputs': [\n",
      "{'name': 'enable', 'id': 57, 'type': 'bool', 'access': 'rw'}], 'outputs': []}, \n",
      "{'name': 'erase_configs', 'id': 58, 'type': 'function', 'inputs': [], 'outputs': []}, \n",
      "{'name': 'set_enable', 'id': 59, 'type': 'function', 'inputs': [\n",
      "{'name': 'enable', 'id': 60, 'type': 'bool', 'access': 'rw'}], 'outputs': []}, \n",
      "{'name': 'set_position_with_time', 'id': 61, 'type': 'function', 'inputs': [\n",
      "{'name': 'pos', 'id': 62, 'type': 'float', 'access': 'rw'}, \n",
      "{'name': 'time', 'id': 63, 'type': 'float', 'access': 'rw'}], 'outputs': []}, \n",
      "{'name': 'set_position', 'id': 64, 'type': 'function', 'inputs': [\n",
      "{'name': 'pos', 'id': 65, 'type': 'float', 'access': 'rw'}], 'outputs': []}, \n",
      "{'name': 'set_velocity', 'id': 66, 'type': 'function', 'inputs': [\n",
      "{'name': 'vel', 'id': 67, 'type': 'float', 'access': 'rw'}], 'outputs': []}, \n",
      "{'name': 'set_velocity_limit', 'id': 68, 'type': 'function', 'inputs': [\n",
      "{'name': 'vel', 'id': 69, 'type': 'float', 'access': 'rw'}], 'outputs': []}, \n",
      "{'name': 'set_current', 'id': 70, 'type': 'function', 'inputs': [\n",
      "{'name': 'current', 'id': 71, 'type': 'float', 'access': 'rw'}], 'outputs': []}, \n",
      "{'name': 'set_current_limit', 'id': 72, 'type': 'function', 'inputs': [\n",
      "{'name': 'current', 'id': 73, 'type': 'float', 'access': 'rw'}], 'outputs': []}, \n",
      "{'name': 'set_node_id', 'id': 74, 'type': 'function', 'inputs': [\n",
      "{'name': 'id', 'id': 75, 'type': 'uint32', 'access': 'rw'}], 'outputs': []}, \n",
      "{'name': 'set_acceleration', 'id': 76, 'type': 'function', 'inputs': [\n",
      "{'name': 'acc', 'id': 77, 'type': 'float', 'access': 'rw'}], 'outputs': []}, \n",
      "{'name': 'apply_home_offset', 'id': 78, 'type': 'function', 'inputs': [], 'outputs': []}, \n",
      "{'name': 'do_calibration', 'id': 79, 'type': 'function', 'inputs': [], 'outputs': []}, \n",
      "{'name': 'set_enable_on_boot', 'id': 80, 'type': 'function', 'inputs': [\n",
      "{'name': 'enable', 'id': 81, 'type': 'bool', 'access': 'rw'}], 'outputs': []}, \n",
      "{'name': 'set_dce_kp', 'id': 82, 'type': 'function', 'inputs': [\n",
      "{'name': 'vel', 'id': 83, 'type': 'int32', 'access': 'rw'}], 'outputs': []}, \n",
      "{'name': 'set_dce_kv', 'id': 84, 'type': 'function', 'inputs': [\n",
      "{'name': 'vel', 'id': 85, 'type': 'int32', 'access': 'rw'}], 'outputs': []}, \n",
      "{'name': 'set_dce_ki', 'id': 86, 'type': 'function', 'inputs': [\n",
      "{'name': 'vel', 'id': 87, 'type': 'int32', 'access': 'rw'}], 'outputs': []}, \n",
      "{'name': 'set_dce_kd', 'id': 88, 'type': 'function', 'inputs': [\n",
      "{'name': 'vel', 'id': 89, 'type': 'int32', 'access': 'rw'}], 'outputs': []}, \n",
      "{'name': 'set_enable_stall_protect', 'id': 90, 'type': 'function', 'inputs': [\n",
      "{'name': 'enable', 'id': 91, 'type': 'bool', 'access': 'rw'}], 'outputs': []}, \n",
      "{'name': 'update_angle', 'id': 92, 'type': 'function', 'inputs': [], 'outputs': []}]}, \n",
      "{'name': 'joint_3', 'type': 'object', 'members': [\n",
      "{'name': 'angle', 'id': 93, 'type': 'float', 'access': 'r'}, \n",
      "{'name': 'velocity', 'id': 94, 'type': 'float', 'access': 'r'}, \n",
      "{'name': 'reboot', 'id': 95, 'type': 'function', 'inputs': [], 'outputs': []}, \n",
      "{'name': 'get_temperature', 'id': 96, 'type': 'function', 'inputs': [], 'outputs': [\n",
      "{'name': 'result', 'id': 97, 'type': 'uint32', 'access': 'rw'}]}, \n",
      "{'name': 'set_enable_temperature', 'id': 98, 'type': 'function', 'inputs': [\n",
      "{'name': 'enable', 'id': 99, 'type': 'bool', 'access': 'rw'}], 'outputs': []}, \n",
      "{'name': 'erase_configs', 'id': 100, 'type': 'function', 'inputs': [], 'outputs': []}, \n",
      "{'name': 'set_enable', 'id': 101, 'type': 'function', 'inputs': [\n",
      "{'name': 'enable', 'id': 102, 'type': 'bool', 'access': 'rw'}], 'outputs': []}, \n",
      "{'name': 'set_position_with_time', 'id': 103, 'type': 'function', 'inputs': [\n",
      "{'name': 'pos', 'id': 104, 'type': 'float', 'access': 'rw'}, \n",
      "{'name': 'time', 'id': 105, 'type': 'float', 'access': 'rw'}], 'outputs': []}, \n",
      "{'name': 'set_position', 'id': 106, 'type': 'function', 'inputs': [\n",
      "{'name': 'pos', 'id': 107, 'type': 'float', 'access': 'rw'}], 'outputs': []}, \n",
      "{'name': 'set_velocity', 'id': 108, 'type': 'function', 'inputs': [\n",
      "{'name': 'vel', 'id': 109, 'type': 'float', 'access': 'rw'}], 'outputs': []}, \n",
      "{'name': 'set_velocity_limit', 'id': 110, 'type': 'function', 'inputs': [\n",
      "{'name': 'vel', 'id': 111, 'type': 'float', 'access': 'rw'}], 'outputs': []}, \n",
      "{'name': 'set_current', 'id': 112, 'type': 'function', 'inputs': [\n",
      "{'name': 'current', 'id': 113, 'type': 'float', 'access': 'rw'}], 'outputs': []}, \n",
      "{'name': 'set_current_limit', 'id': 114, 'type': 'function', 'inputs': [\n",
      "{'name': 'current', 'id': 115, 'type': 'float', 'access': 'rw'}], 'outputs': []}, \n",
      "{'name': 'set_node_id', 'id': 116, 'type': 'function', 'inputs': [\n",
      "{'name': 'id', 'id': 117, 'type': 'uint32', 'access': 'rw'}], 'outputs': []}, \n",
      "{'name': 'set_acceleration', 'id': 118, 'type': 'function', 'inputs': [\n",
      "{'name': 'acc', 'id': 119, 'type': 'float', 'access': 'rw'}], 'outputs': []}, \n",
      "{'name': 'apply_home_offset', 'id': 120, 'type': 'function', 'inputs': [], 'outputs': []}, \n",
      "{'name': 'do_calibration', 'id': 121, 'type': 'function', 'inputs': [], 'outputs': []}, \n",
      "{'name': 'set_enable_on_boot', 'id': 122, 'type': 'function', 'inputs': [\n",
      "{'name': 'enable', 'id': 123, 'type': 'bool', 'access': 'rw'}], 'outputs': []}, \n",
      "{'name': 'set_dce_kp', 'id': 124, 'type': 'function', 'inputs': [\n",
      "{'name': 'vel', 'id': 125, 'type': 'int32', 'access': 'rw'}], 'outputs': []}, \n",
      "{'name': 'set_dce_kv', 'id': 126, 'type': 'function', 'inputs': [\n",
      "{'name': 'vel', 'id': 127, 'type': 'int32', 'access': 'rw'}], 'outputs': []}, \n",
      "{'name': 'set_dce_ki', 'id': 128, 'type': 'function', 'inputs': [\n",
      "{'name': 'vel', 'id': 129, 'type': 'int32', 'access': 'rw'}], 'outputs': []}, \n",
      "{'name': 'set_dce_kd', 'id': 130, 'type': 'function', 'inputs': [\n",
      "{'name': 'vel', 'id': 131, 'type': 'int32', 'access': 'rw'}], 'outputs': []}, \n",
      "{'name': 'set_enable_stall_protect', 'id': 132, 'type': 'function', 'inputs': [\n",
      "{'name': 'enable', 'id': 133, 'type': 'bool', 'access': 'rw'}], 'outputs': []}, \n",
      "{'name': 'update_angle', 'id': 134, 'type': 'function', 'inputs': [], 'outputs': []}]}, \n",
      "{'name': 'joint_4', 'type': 'object', 'members': [\n",
      "{'name': 'angle', 'id': 135, 'type': 'float', 'access': 'r'}, \n",
      "{'name': 'velocity', 'id': 136, 'type': 'float', 'access': 'r'}, \n",
      "{'name': 'reboot', 'id': 137, 'type': 'function', 'inputs': [], 'outputs': []}, \n",
      "{'name': 'get_temperature', 'id': 138, 'type': 'function', 'inputs': [], 'outputs': [\n",
      "{'name': 'result', 'id': 139, 'type': 'uint32', 'access': 'rw'}]}, \n",
      "{'name': 'set_enable_temperature', 'id': 140, 'type': 'function', 'inputs': [\n",
      "{'name': 'enable', 'id': 141, 'type': 'bool', 'access': 'rw'}], 'outputs': []}, \n",
      "{'name': 'erase_configs', 'id': 142, 'type': 'function', 'inputs': [], 'outputs': []}, \n",
      "{'name': 'set_enable', 'id': 143, 'type': 'function', 'inputs': [\n",
      "{'name': 'enable', 'id': 144, 'type': 'bool', 'access': 'rw'}], 'outputs': []}, \n",
      "{'name': 'set_position_with_time', 'id': 145, 'type': 'function', 'inputs': [\n",
      "{'name': 'pos', 'id': 146, 'type': 'float', 'access': 'rw'}, \n",
      "{'name': 'time', 'id': 147, 'type': 'float', 'access': 'rw'}], 'outputs': []}, \n",
      "{'name': 'set_position', 'id': 148, 'type': 'function', 'inputs': [\n",
      "{'name': 'pos', 'id': 149, 'type': 'float', 'access': 'rw'}], 'outputs': []}, \n",
      "{'name': 'set_velocity', 'id': 150, 'type': 'function', 'inputs': [\n",
      "{'name': 'vel', 'id': 151, 'type': 'float', 'access': 'rw'}], 'outputs': []}, \n",
      "{'name': 'set_velocity_limit', 'id': 152, 'type': 'function', 'inputs': [\n",
      "{'name': 'vel', 'id': 153, 'type': 'float', 'access': 'rw'}], 'outputs': []}, \n",
      "{'name': 'set_current', 'id': 154, 'type': 'function', 'inputs': [\n",
      "{'name': 'current', 'id': 155, 'type': 'float', 'access': 'rw'}], 'outputs': []}, \n",
      "{'name': 'set_current_limit', 'id': 156, 'type': 'function', 'inputs': [\n",
      "{'name': 'current', 'id': 157, 'type': 'float', 'access': 'rw'}], 'outputs': []}, \n",
      "{'name': 'set_node_id', 'id': 158, 'type': 'function', 'inputs': [\n",
      "{'name': 'id', 'id': 159, 'type': 'uint32', 'access': 'rw'}], 'outputs': []}, \n",
      "{'name': 'set_acceleration', 'id': 160, 'type': 'function', 'inputs': [\n",
      "{'name': 'acc', 'id': 161, 'type': 'float', 'access': 'rw'}], 'outputs': []}, \n",
      "{'name': 'apply_home_offset', 'id': 162, 'type': 'function', 'inputs': [], 'outputs': []}, \n",
      "{'name': 'do_calibration', 'id': 163, 'type': 'function', 'inputs': [], 'outputs': []}, \n",
      "{'name': 'set_enable_on_boot', 'id': 164, 'type': 'function', 'inputs': [\n",
      "{'name': 'enable', 'id': 165, 'type': 'bool', 'access': 'rw'}], 'outputs': []}, \n",
      "{'name': 'set_dce_kp', 'id': 166, 'type': 'function', 'inputs': [\n",
      "{'name': 'vel', 'id': 167, 'type': 'int32', 'access': 'rw'}], 'outputs': []}, \n",
      "{'name': 'set_dce_kv', 'id': 168, 'type': 'function', 'inputs': [\n",
      "{'name': 'vel', 'id': 169, 'type': 'int32', 'access': 'rw'}], 'outputs': []}, \n",
      "{'name': 'set_dce_ki', 'id': 170, 'type': 'function', 'inputs': [\n",
      "{'name': 'vel', 'id': 171, 'type': 'int32', 'access': 'rw'}], 'outputs': []}, \n",
      "{'name': 'set_dce_kd', 'id': 172, 'type': 'function', 'inputs': [\n",
      "{'name': 'vel', 'id': 173, 'type': 'int32', 'access': 'rw'}], 'outputs': []}, \n",
      "{'name': 'set_enable_stall_protect', 'id': 174, 'type': 'function', 'inputs': [\n",
      "{'name': 'enable', 'id': 175, 'type': 'bool', 'access': 'rw'}], 'outputs': []}, \n",
      "{'name': 'update_angle', 'id': 176, 'type': 'function', 'inputs': [], 'outputs': []}]}, \n",
      "{'name': 'joint_5', 'type': 'object', 'members': [\n",
      "{'name': 'angle', 'id': 177, 'type': 'float', 'access': 'r'}, \n",
      "{'name': 'velocity', 'id': 178, 'type': 'float', 'access': 'r'}, \n",
      "{'name': 'reboot', 'id': 179, 'type': 'function', 'inputs': [], 'outputs': []}, \n",
      "{'name': 'get_temperature', 'id': 180, 'type': 'function', 'inputs': [], 'outputs': [\n",
      "{'name': 'result', 'id': 181, 'type': 'uint32', 'access': 'rw'}]}, \n",
      "{'name': 'set_enable_temperature', 'id': 182, 'type': 'function', 'inputs': [\n",
      "{'name': 'enable', 'id': 183, 'type': 'bool', 'access': 'rw'}], 'outputs': []}, \n",
      "{'name': 'erase_configs', 'id': 184, 'type': 'function', 'inputs': [], 'outputs': []}, \n",
      "{'name': 'set_enable', 'id': 185, 'type': 'function', 'inputs': [\n",
      "{'name': 'enable', 'id': 186, 'type': 'bool', 'access': 'rw'}], 'outputs': []}, \n",
      "{'name': 'set_position_with_time', 'id': 187, 'type': 'function', 'inputs': [\n",
      "{'name': 'pos', 'id': 188, 'type': 'float', 'access': 'rw'}, \n",
      "{'name': 'time', 'id': 189, 'type': 'float', 'access': 'rw'}], 'outputs': []}, \n",
      "{'name': 'set_position', 'id': 190, 'type': 'function', 'inputs': [\n",
      "{'name': 'pos', 'id': 191, 'type': 'float', 'access': 'rw'}], 'outputs': []}, \n",
      "{'name': 'set_velocity', 'id': 192, 'type': 'function', 'inputs': [\n",
      "{'name': 'vel', 'id': 193, 'type': 'float', 'access': 'rw'}], 'outputs': []}, \n",
      "{'name': 'set_velocity_limit', 'id': 194, 'type': 'function', 'inputs': [\n",
      "{'name': 'vel', 'id': 195, 'type': 'float', 'access': 'rw'}], 'outputs': []}, \n",
      "{'name': 'set_current', 'id': 196, 'type': 'function', 'inputs': [\n",
      "{'name': 'current', 'id': 197, 'type': 'float', 'access': 'rw'}], 'outputs': []}, \n",
      "{'name': 'set_current_limit', 'id': 198, 'type': 'function', 'inputs': [\n",
      "{'name': 'current', 'id': 199, 'type': 'float', 'access': 'rw'}], 'outputs': []}, \n",
      "{'name': 'set_node_id', 'id': 200, 'type': 'function', 'inputs': [\n",
      "{'name': 'id', 'id': 201, 'type': 'uint32', 'access': 'rw'}], 'outputs': []}, \n",
      "{'name': 'set_acceleration', 'id': 202, 'type': 'function', 'inputs': [\n",
      "{'name': 'acc', 'id': 203, 'type': 'float', 'access': 'rw'}], 'outputs': []}, \n",
      "{'name': 'apply_home_offset', 'id': 204, 'type': 'function', 'inputs': [], 'outputs': []}, \n",
      "{'name': 'do_calibration', 'id': 205, 'type': 'function', 'inputs': [], 'outputs': []}, \n",
      "{'name': 'set_enable_on_boot', 'id': 206, 'type': 'function', 'inputs': [\n",
      "{'name': 'enable', 'id': 207, 'type': 'bool', 'access': 'rw'}], 'outputs': []}, \n",
      "{'name': 'set_dce_kp', 'id': 208, 'type': 'function', 'inputs': [\n",
      "{'name': 'vel', 'id': 209, 'type': 'int32', 'access': 'rw'}], 'outputs': []}, \n",
      "{'name': 'set_dce_kv', 'id': 210, 'type': 'function', 'inputs': [\n",
      "{'name': 'vel', 'id': 211, 'type': 'int32', 'access': 'rw'}], 'outputs': []}, \n",
      "{'name': 'set_dce_ki', 'id': 212, 'type': 'function', 'inputs': [\n",
      "{'name': 'vel', 'id': 213, 'type': 'int32', 'access': 'rw'}], 'outputs': []}, \n",
      "{'name': 'set_dce_kd', 'id': 214, 'type': 'function', 'inputs': [\n",
      "{'name': 'vel', 'id': 215, 'type': 'int32', 'access': 'rw'}], 'outputs': []}, \n",
      "{'name': 'set_enable_stall_protect', 'id': 216, 'type': 'function', 'inputs': [\n",
      "{'name': 'enable', 'id': 217, 'type': 'bool', 'access': 'rw'}], 'outputs': []}, \n",
      "{'name': 'update_angle', 'id': 218, 'type': 'function', 'inputs': [], 'outputs': []}]}, \n",
      "{'name': 'joint_6', 'type': 'object', 'members': [\n",
      "{'name': 'angle', 'id': 219, 'type': 'float', 'access': 'r'}, \n",
      "{'name': 'velocity', 'id': 220, 'type': 'float', 'access': 'r'}, \n",
      "{'name': 'reboot', 'id': 221, 'type': 'function', 'inputs': [], 'outputs': []}, \n",
      "{'name': 'get_temperature', 'id': 222, 'type': 'function', 'inputs': [], 'outputs': [\n",
      "{'name': 'result', 'id': 223, 'type': 'uint32', 'access': 'rw'}]}, \n",
      "{'name': 'set_enable_temperature', 'id': 224, 'type': 'function', 'inputs': [\n",
      "{'name': 'enable', 'id': 225, 'type': 'bool', 'access': 'rw'}], 'outputs': []}, \n",
      "{'name': 'erase_configs', 'id': 226, 'type': 'function', 'inputs': [], 'outputs': []}, \n",
      "{'name': 'set_enable', 'id': 227, 'type': 'function', 'inputs': [\n",
      "{'name': 'enable', 'id': 228, 'type': 'bool', 'access': 'rw'}], 'outputs': []}, \n",
      "{'name': 'set_position_with_time', 'id': 229, 'type': 'function', 'inputs': [\n",
      "{'name': 'pos', 'id': 230, 'type': 'float', 'access': 'rw'}, \n",
      "{'name': 'time', 'id': 231, 'type': 'float', 'access': 'rw'}], 'outputs': []}, \n",
      "{'name': 'set_position', 'id': 232, 'type': 'function', 'inputs': [\n",
      "{'name': 'pos', 'id': 233, 'type': 'float', 'access': 'rw'}], 'outputs': []}, \n",
      "{'name': 'set_velocity', 'id': 234, 'type': 'function', 'inputs': [\n",
      "{'name': 'vel', 'id': 235, 'type': 'float', 'access': 'rw'}], 'outputs': []}, \n",
      "{'name': 'set_velocity_limit', 'id': 236, 'type': 'function', 'inputs': [\n",
      "{'name': 'vel', 'id': 237, 'type': 'float', 'access': 'rw'}], 'outputs': []}, \n",
      "{'name': 'set_current', 'id': 238, 'type': 'function', 'inputs': [\n",
      "{'name': 'current', 'id': 239, 'type': 'float', 'access': 'rw'}], 'outputs': []}, \n",
      "{'name': 'set_current_limit', 'id': 240, 'type': 'function', 'inputs': [\n",
      "{'name': 'current', 'id': 241, 'type': 'float', 'access': 'rw'}], 'outputs': []}, \n",
      "{'name': 'set_node_id', 'id': 242, 'type': 'function', 'inputs': [\n",
      "{'name': 'id', 'id': 243, 'type': 'uint32', 'access': 'rw'}], 'outputs': []}, \n",
      "{'name': 'set_acceleration', 'id': 244, 'type': 'function', 'inputs': [\n",
      "{'name': 'acc', 'id': 245, 'type': 'float', 'access': 'rw'}], 'outputs': []}, \n",
      "{'name': 'apply_home_offset', 'id': 246, 'type': 'function', 'inputs': [], 'outputs': []}, \n",
      "{'name': 'do_calibration', 'id': 247, 'type': 'function', 'inputs': [], 'outputs': []}, \n",
      "{'name': 'set_enable_on_boot', 'id': 248, 'type': 'function', 'inputs': [\n",
      "{'name': 'enable', 'id': 249, 'type': 'bool', 'access': 'rw'}], 'outputs': []}, \n",
      "{'name': 'set_dce_kp', 'id': 250, 'type': 'function', 'inputs': [\n",
      "{'name': 'vel', 'id': 251, 'type': 'int32', 'access': 'rw'}], 'outputs': []}, \n",
      "{'name': 'set_dce_kv', 'id': 252, 'type': 'function', 'inputs': [\n",
      "{'name': 'vel', 'id': 253, 'type': 'int32', 'access': 'rw'}], 'outputs': []}, \n",
      "{'name': 'set_dce_ki', 'id': 254, 'type': 'function', 'inputs': [\n",
      "{'name': 'vel', 'id': 255, 'type': 'int32', 'access': 'rw'}], 'outputs': []}, \n",
      "{'name': 'set_dce_kd', 'id': 256, 'type': 'function', 'inputs': [\n",
      "{'name': 'vel', 'id': 257, 'type': 'int32', 'access': 'rw'}], 'outputs': []}, \n",
      "{'name': 'set_enable_stall_protect', 'id': 258, 'type': 'function', 'inputs': [\n",
      "{'name': 'enable', 'id': 259, 'type': 'bool', 'access': 'rw'}], 'outputs': []}, \n",
      "{'name': 'update_angle', 'id': 260, 'type': 'function', 'inputs': [], 'outputs': []}]}, \n",
      "{'name': 'joint_all', 'type': 'object', 'members': [\n",
      "{'name': 'angle', 'id': 261, 'type': 'float', 'access': 'r'}, \n",
      "{'name': 'velocity', 'id': 262, 'type': 'float', 'access': 'r'}, \n",
      "{'name': 'reboot', 'id': 263, 'type': 'function', 'inputs': [], 'outputs': []}, \n",
      "{'name': 'get_temperature', 'id': 264, 'type': 'function', 'inputs': [], 'outputs': [\n",
      "{'name': 'result', 'id': 265, 'type': 'uint32', 'access': 'rw'}]}, \n",
      "{'name': 'set_enable_temperature', 'id': 266, 'type': 'function', 'inputs': [\n",
      "{'name': 'enable', 'id': 267, 'type': 'bool', 'access': 'rw'}], 'outputs': []}, \n",
      "{'name': 'erase_configs', 'id': 268, 'type': 'function', 'inputs': [], 'outputs': []}, \n",
      "{'name': 'set_enable', 'id': 269, 'type': 'function', 'inputs': [\n",
      "{'name': 'enable', 'id': 270, 'type': 'bool', 'access': 'rw'}], 'outputs': []}, \n",
      "{'name': 'set_position_with_time', 'id': 271, 'type': 'function', 'inputs': [\n",
      "{'name': 'pos', 'id': 272, 'type': 'float', 'access': 'rw'}, \n",
      "{'name': 'time', 'id': 273, 'type': 'float', 'access': 'rw'}], 'outputs': []}, \n",
      "{'name': 'set_position', 'id': 274, 'type': 'function', 'inputs': [\n",
      "{'name': 'pos', 'id': 275, 'type': 'float', 'access': 'rw'}], 'outputs': []}, \n",
      "{'name': 'set_velocity', 'id': 276, 'type': 'function', 'inputs': [\n",
      "{'name': 'vel', 'id': 277, 'type': 'float', 'access': 'rw'}], 'outputs': []}, \n",
      "{'name': 'set_velocity_limit', 'id': 278, 'type': 'function', 'inputs': [\n",
      "{'name': 'vel', 'id': 279, 'type': 'float', 'access': 'rw'}], 'outputs': []}, \n",
      "{'name': 'set_current', 'id': 280, 'type': 'function', 'inputs': [\n",
      "{'name': 'current', 'id': 281, 'type': 'float', 'access': 'rw'}], 'outputs': []}, \n",
      "{'name': 'set_current_limit', 'id': 282, 'type': 'function', 'inputs': [\n",
      "{'name': 'current', 'id': 283, 'type': 'float', 'access': 'rw'}], 'outputs': []}, \n",
      "{'name': 'set_node_id', 'id': 284, 'type': 'function', 'inputs': [\n",
      "{'name': 'id', 'id': 285, 'type': 'uint32', 'access': 'rw'}], 'outputs': []}, \n",
      "{'name': 'set_acceleration', 'id': 286, 'type': 'function', 'inputs': [\n",
      "{'name': 'acc', 'id': 287, 'type': 'float', 'access': 'rw'}], 'outputs': []}, \n",
      "{'name': 'apply_home_offset', 'id': 288, 'type': 'function', 'inputs': [], 'outputs': []}, \n",
      "{'name': 'do_calibration', 'id': 289, 'type': 'function', 'inputs': [], 'outputs': []}, \n",
      "{'name': 'set_enable_on_boot', 'id': 290, 'type': 'function', 'inputs': [\n",
      "{'name': 'enable', 'id': 291, 'type': 'bool', 'access': 'rw'}], 'outputs': []}, \n",
      "{'name': 'set_dce_kp', 'id': 292, 'type': 'function', 'inputs': [\n",
      "{'name': 'vel', 'id': 293, 'type': 'int32', 'access': 'rw'}], 'outputs': []}, \n",
      "{'name': 'set_dce_kv', 'id': 294, 'type': 'function', 'inputs': [\n",
      "{'name': 'vel', 'id': 295, 'type': 'int32', 'access': 'rw'}], 'outputs': []}, \n",
      "{'name': 'set_dce_ki', 'id': 296, 'type': 'function', 'inputs': [\n",
      "{'name': 'vel', 'id': 297, 'type': 'int32', 'access': 'rw'}], 'outputs': []}, \n",
      "{'name': 'set_dce_kd', 'id': 298, 'type': 'function', 'inputs': [\n",
      "{'name': 'vel', 'id': 299, 'type': 'int32', 'access': 'rw'}], 'outputs': []}, \n",
      "{'name': 'set_enable_stall_protect', 'id': 300, 'type': 'function', 'inputs': [\n",
      "{'name': 'enable', 'id': 301, 'type': 'bool', 'access': 'rw'}], 'outputs': []}, \n",
      "{'name': 'update_angle', 'id': 302, 'type': 'function', 'inputs': [], 'outputs': []}]}, \n",
      "{'name': 'hand', 'type': 'object', 'members': [\n",
      "{'name': 'angle', 'id': 303, 'type': 'float', 'access': 'r'}, \n",
      "{'name': 'get_mode', 'id': 304, 'type': 'function', 'inputs': [], 'outputs': [\n",
      "{'name': 'result', 'id': 305, 'type': 'uint8', 'access': 'rw'}]}, \n",
      "{'name': 'get_current_limit', 'id': 306, 'type': 'function', 'inputs': [], 'outputs': [\n",
      "{'name': 'result', 'id': 307, 'type': 'float', 'access': 'rw'}]}, \n",
      "{'name': 'set_angle', 'id': 308, 'type': 'function', 'inputs': [\n",
      "{'name': 'angle', 'id': 309, 'type': 'float', 'access': 'rw'}], 'outputs': []}, \n",
      "{'name': 'set_mode', 'id': 310, 'type': 'function', 'inputs': [\n",
      "{'name': 'mode', 'id': 311, 'type': 'uint8', 'access': 'rw'}], 'outputs': []}, \n",
      "{'name': 'set_current_limit', 'id': 312, 'type': 'function', 'inputs': [\n",
      "{'name': 'current', 'id': 313, 'type': 'float', 'access': 'rw'}], 'outputs': []}, \n",
      "{'name': 'set_torque', 'id': 314, 'type': 'function', 'inputs': [\n",
      "{'name': 'current', 'id': 315, 'type': 'float', 'access': 'rw'}], 'outputs': []}, \n",
      "{'name': 'enable_close_loop', 'id': 316, 'type': 'function', 'inputs': [], 'outputs': []}, \n",
      "{'name': 'save', 'id': 317, 'type': 'function', 'inputs': [], 'outputs': []}]}, \n",
      "{'name': 'reboot', 'id': 318, 'type': 'function', 'inputs': [], 'outputs': []}, \n",
      "{'name': 'set_enable', 'id': 319, 'type': 'function', 'inputs': [\n",
      "{'name': 'enable', 'id': 320, 'type': 'bool', 'access': 'rw'}], 'outputs': []}, \n",
      "{'name': 'set_rgb_enable', 'id': 321, 'type': 'function', 'inputs': [\n",
      "{'name': 'enable', 'id': 322, 'type': 'bool', 'access': 'rw'}], 'outputs': []}, \n",
      "{'name': 'set_rgb_mode', 'id': 323, 'type': 'function', 'inputs': [\n",
      "{'name': 'mode', 'id': 324, 'type': 'uint32', 'access': 'rw'}], 'outputs': []}, \n",
      "{'name': 'move_j', 'id': 325, 'type': 'function', 'inputs': [\n",
      "{'name': 'j1', 'id': 326, 'type': 'float', 'access': 'rw'}, \n",
      "{'name': 'j2', 'id': 327, 'type': 'float', 'access': 'rw'}, \n",
      "{'name': 'j3', 'id': 328, 'type': 'float', 'access': 'rw'}, \n",
      "{'name': 'j4', 'id': 329, 'type': 'float', 'access': 'rw'}, \n",
      "{'name': 'j5', 'id': 330, 'type': 'float', 'access': 'rw'}, \n",
      "{'name': 'j6', 'id': 331, 'type': 'float', 'access': 'rw'}], 'outputs': [\n",
      "{'name': 'result', 'id': 332, 'type': 'bool', 'access': 'rw'}]}, \n",
      "{'name': 'move_l', 'id': 333, 'type': 'function', 'inputs': [\n",
      "{'name': 'x', 'id': 334, 'type': 'float', 'access': 'rw'}, \n",
      "{'name': 'y', 'id': 335, 'type': 'float', 'access': 'rw'}, \n",
      "{'name': 'z', 'id': 336, 'type': 'float', 'access': 'rw'}, \n",
      "{'name': 'a', 'id': 337, 'type': 'float', 'access': 'rw'}, \n",
      "{'name': 'b', 'id': 338, 'type': 'float', 'access': 'rw'}, \n",
      "{'name': 'c', 'id': 339, 'type': 'float', 'access': 'rw'}], 'outputs': [\n",
      "{'name': 'result', 'id': 340, 'type': 'bool', 'access': 'rw'}]}, \n",
      "{'name': 'set_joint_speed', 'id': 341, 'type': 'function', 'inputs': [\n",
      "{'name': 'speed', 'id': 342, 'type': 'float', 'access': 'rw'}], 'outputs': []}, \n",
      "{'name': 'set_joint_acc', 'id': 343, 'type': 'function', 'inputs': [\n",
      "{'name': 'acc', 'id': 344, 'type': 'float', 'access': 'rw'}], 'outputs': []}, \n",
      "{'name': 'set_command_mode', 'id': 345, 'type': 'function', 'inputs': [\n",
      "{'name': 'mode', 'id': 346, 'type': 'uint32', 'access': 'rw'}], 'outputs': []}, \n",
      "{'name': 'tuning', 'type': 'object', 'members': [\n",
      "{'name': 'set_tuning_freq_amp', 'id': 347, 'type': 'function', 'inputs': [\n",
      "{'name': 'freq', 'id': 348, 'type': 'float', 'access': 'rw'}, \n",
      "{'name': 'amp', 'id': 349, 'type': 'float', 'access': 'rw'}], 'outputs': []}, \n",
      "{'name': 'set_tuning_flag', 'id': 350, 'type': 'function', 'inputs': [\n",
      "{'name': 'flag', 'id': 351, 'type': 'uint8', 'access': 'rw'}], 'outputs': []}]}, \n",
      "{'name': 'eef_pose', 'type': 'object', 'members': [\n",
      "{'name': 'x', 'id': 352, 'type': 'float', 'access': 'r'}, \n",
      "{'name': 'y', 'id': 353, 'type': 'float', 'access': 'r'}, \n",
      "{'name': 'z', 'id': 354, 'type': 'float', 'access': 'r'}, \n",
      "{'name': 'a', 'id': 355, 'type': 'float', 'access': 'r'}, \n",
      "{'name': 'b', 'id': 356, 'type': 'float', 'access': 'r'}, \n",
      "{'name': 'c', 'id': 357, 'type': 'float', 'access': 'r'}, \n",
      "{'name': 'update_pose_6D', 'id': 358, 'type': 'function', 'inputs': [], 'outputs': []}]}]}]\u001b[0m\n",
      "\u001b[0mmalformed member : unsupported codec json\u001b[0m\n"
     ]
    }
   ],
   "source": [
    "from __future__ import print_function\n",
    "import fibre\n",
    "logger = fibre.utils.Logger(verbose=True)\n",
    "SN = \"396636713233\"\n",
    "teach_arm = fibre.find_any(serial_number=SN, logger=logger)"
   ]
  },
  {
   "cell_type": "code",
   "execution_count": 26,
   "metadata": {},
   "outputs": [],
   "source": [
    "teach_arm.robot.resting()"
   ]
  },
  {
   "cell_type": "code",
   "execution_count": 27,
   "metadata": {},
   "outputs": [
    {
     "data": {
      "text/plain": [
       "array([ 94.67084503,   0.        , 162.63214111, 179.99768066,\n",
       "        72.99998474, 179.99758911])"
      ]
     },
     "execution_count": 27,
     "metadata": {},
     "output_type": "execute_result"
    }
   ],
   "source": [
    "import numpy as np\n",
    "def get_current_pose():\n",
    "    teach_arm.robot.eef_pose.update_pose_6D()\n",
    "    x,y,z,rz,ry,rx = teach_arm.robot.eef_pose.x, teach_arm.robot.eef_pose.y, teach_arm.robot.eef_pose.z, teach_arm.robot.eef_pose.a, teach_arm.robot.eef_pose.b, teach_arm.robot.eef_pose.c\n",
    "    current_pose = np.array([x,y,z,rz,ry,rx])\n",
    "    return current_pose\n",
    "\n",
    "current_pose = get_current_pose()\n",
    "current_pose\n"
   ]
  },
  {
   "cell_type": "code",
   "execution_count": 24,
   "metadata": {},
   "outputs": [
    {
     "data": {
      "text/plain": [
       "array([ 9.46676331e+01,  8.13201722e-03,  1.62425903e+02, -1.79995377e+02,\n",
       "        7.29348297e+01, -1.79990234e+02])"
      ]
     },
     "execution_count": 24,
     "metadata": {},
     "output_type": "execute_result"
    }
   ],
   "source": [
    "teach_arm.robot.set_enable(True)\n",
    "teach_arm.robot.move_l(current_pose[0], 0.1, current_pose[2], current_pose[3], current_pose[4], current_pose[5])\n",
    "current_pose = get_current_pose()\n",
    "current_pose"
   ]
  },
  {
   "cell_type": "code",
   "execution_count": 43,
   "metadata": {},
   "outputs": [],
   "source": [
    "# Enable motor but disable circle udpate\n",
    "teach_arm.robot.joint_all.set_enable(True)\n",
    "teach_arm.robot.set_enable(False)"
   ]
  },
  {
   "cell_type": "markdown",
   "metadata": {},
   "source": [
    "## 先手动把机械臂挪成L姿态, 然后运行以下代码"
   ]
  },
  {
   "cell_type": "code",
   "execution_count": 44,
   "metadata": {},
   "outputs": [],
   "source": [
    "teach_arm.robot.joint_1.apply_home_offset()\n",
    "teach_arm.robot.joint_2.apply_home_offset()\n",
    "teach_arm.robot.joint_3.apply_home_offset()\n",
    "teach_arm.robot.joint_4.apply_home_offset()\n",
    "teach_arm.robot.joint_5.apply_home_offset()\n",
    "teach_arm.robot.joint_6.apply_home_offset()"
   ]
  },
  {
   "cell_type": "markdown",
   "metadata": {},
   "source": [
    "## 再手动把机械臂挪回休息状态, 然后运行以下代码"
   ]
  },
  {
   "cell_type": "code",
   "execution_count": 45,
   "metadata": {},
   "outputs": [],
   "source": [
    "teach_arm.robot.joint_1.apply_home_offset()\n",
    "teach_arm.robot.joint_2.apply_home_offset()\n",
    "teach_arm.robot.joint_3.apply_home_offset()\n",
    "teach_arm.robot.joint_4.apply_home_offset()\n",
    "teach_arm.robot.joint_5.apply_home_offset()\n",
    "teach_arm.robot.joint_6.apply_home_offset()"
   ]
  },
  {
   "cell_type": "code",
   "execution_count": null,
   "metadata": {},
   "outputs": [],
   "source": [
    "teach_arm.robot.set_enable(True)\n",
    "teach_arm.robot.move_j(0, 0, 90, 0, 55, 0)"
   ]
  },
  {
   "cell_type": "code",
   "execution_count": null,
   "metadata": {},
   "outputs": [],
   "source": [
    "teach_arm.robot.set_enable(True)\n",
    "teach_arm.robot.move_j(-17.21704864501953, 41.4782829284668, 23.368927001953125, 0.0007031249697320163, 70.50114440917969, 2.599015235900879)"
   ]
  },
  {
   "cell_type": "code",
   "execution_count": null,
   "metadata": {},
   "outputs": [],
   "source": [
    "import fibre\n",
    "import numpy as np\n",
    "\n",
    "from __future__ import print_function\n",
    "logger = fibre.utils.Logger(verbose=True)\n",
    "teach_arm = fibre.find_any(serial_number=\"208C31875253\", logger=logger)\n",
    "follow_arm = fibre.find_any(serial_number=\"396636713233\", logger=logger)"
   ]
  },
  {
   "cell_type": "code",
   "execution_count": 68,
   "metadata": {},
   "outputs": [],
   "source": [
    "teach_arm.robot.set_enable(True)\n",
    "teach_arm.robot.hand.set_mode(0)"
   ]
  },
  {
   "cell_type": "code",
   "execution_count": 67,
   "metadata": {},
   "outputs": [],
   "source": [
    "teach_arm.robot.hand.set_angle(27)"
   ]
  },
  {
   "cell_type": "code",
   "execution_count": null,
   "metadata": {},
   "outputs": [],
   "source": [
    "print(teach_arm.robot.hand.angle - follow_arm.robot.hand.angle)"
   ]
  },
  {
   "cell_type": "code",
   "execution_count": 46,
   "metadata": {},
   "outputs": [],
   "source": [
    "teach_arm.robot.hand.set_current_limit(-0.1)"
   ]
  },
  {
   "cell_type": "code",
   "execution_count": 25,
   "metadata": {},
   "outputs": [],
   "source": [
    "teach_arm.robot.hand.set_mode(0)\n",
    "teach_arm.robot.hand.set_torque(0)"
   ]
  },
  {
   "cell_type": "code",
   "execution_count": null,
   "metadata": {},
   "outputs": [],
   "source": [
    "teach_arm.robot.hand.get_current_limit()"
   ]
  },
  {
   "cell_type": "code",
   "execution_count": null,
   "metadata": {},
   "outputs": [],
   "source": [
    "follow_arm.robot.hand.get_current_limit()"
   ]
  },
  {
   "cell_type": "code",
   "execution_count": null,
   "metadata": {},
   "outputs": [],
   "source": [
    "teach_arm.robot.hand.set_mode(2)\n",
    "teach_arm.robot.set_enable(True)\n",
    "teach_arm.robot.hand.set_angle(27)"
   ]
  },
  {
   "cell_type": "code",
   "execution_count": null,
   "metadata": {},
   "outputs": [],
   "source": [
    "teach_arm.robot.hand.angle"
   ]
  },
  {
   "cell_type": "code",
   "execution_count": null,
   "metadata": {},
   "outputs": [],
   "source": [
    "follow_arm = fibre.find_any(serial_number=\"396636713233\", logger=logger)"
   ]
  },
  {
   "cell_type": "code",
   "execution_count": null,
   "metadata": {},
   "outputs": [],
   "source": [
    "print(follow_arm.robot)"
   ]
  },
  {
   "cell_type": "code",
   "execution_count": 7,
   "metadata": {},
   "outputs": [],
   "source": [
    "follow_arm.robot.homing()"
   ]
  },
  {
   "cell_type": "code",
   "execution_count": null,
   "metadata": {},
   "outputs": [],
   "source": [
    "follow_arm.robot.move_j(10,10,92,5,10,10)"
   ]
  },
  {
   "cell_type": "code",
   "execution_count": 11,
   "metadata": {},
   "outputs": [],
   "source": [
    "follow_arm.robot.set_enable(True)"
   ]
  },
  {
   "cell_type": "code",
   "execution_count": null,
   "metadata": {},
   "outputs": [],
   "source": [
    "from __future__ import print_function\n",
    "import fibre\n",
    "logger = fibre.utils.Logger(verbose=True)\n",
    "SN = \"396636713233\"\n",
    "teach_arm = fibre.find_any(serial_number=SN, logger=logger)\n",
    "teach_arm.robot.resting()\n"
   ]
  },
  {
   "cell_type": "code",
   "execution_count": null,
   "metadata": {},
   "outputs": [],
   "source": [
    "teach_arm.robot.set_enable(True)\n",
    "teach_arm.robot.move_j(       -16.527421951293945,\n",
    "      55.114776611328125,\n",
    "      26.215545654296875,\n",
    "      0.0007031249697320163,\n",
    "      69.51187896728516,\n",
    "      3.933046817779541)"
   ]
  },
  {
   "cell_type": "code",
   "execution_count": null,
   "metadata": {},
   "outputs": [],
   "source": [
    "teach_arm.robot.set_enable(True)\n",
    "teach_arm.robot.move_j(       -16.49370574951172,\n",
    "      49.11359405517578,\n",
    "      26.32851791381836,\n",
    "      3.4315928587602684e-06,\n",
    "      71.90644836425781,\n",
    "      3.8402748107910156)"
   ]
  },
  {
   "cell_type": "code",
   "execution_count": null,
   "metadata": {},
   "outputs": [],
   "source": []
  }
 ],
 "metadata": {
  "kernelspec": {
   "display_name": ".venv",
   "language": "python",
   "name": "python3"
  },
  "language_info": {
   "codemirror_mode": {
    "name": "ipython",
    "version": 3
   },
   "file_extension": ".py",
   "mimetype": "text/x-python",
   "name": "python",
   "nbconvert_exporter": "python",
   "pygments_lexer": "ipython3",
   "version": "3.11.11"
  }
 },
 "nbformat": 4,
 "nbformat_minor": 2
}
