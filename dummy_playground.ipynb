{
 "cells": [
  {
   "cell_type": "code",
   "execution_count": 1,
   "metadata": {},
   "outputs": [],
   "source": [
    "import fibre\n",
    "import numpy as np\n",
    "\n",
    "from __future__ import print_function\n",
    "logger = fibre.utils.Logger(verbose=True)"
   ]
  },
  {
   "cell_type": "markdown",
   "metadata": {},
   "source": [
    "## 机械臂的SN码可以通过`lsusb`命令查看"
   ]
  },
  {
   "cell_type": "code",
   "execution_count": null,
   "metadata": {},
   "outputs": [],
   "source": [
    "teach_arm = fibre.find_any(serial_number=\"208C31875253\", logger=logger)"
   ]
  },
  {
   "cell_type": "code",
   "execution_count": null,
   "metadata": {},
   "outputs": [],
   "source": [
    "teach_arm.robot.hand.angle"
   ]
  },
  {
   "cell_type": "markdown",
   "metadata": {},
   "source": [
    "## RPC连上后,每一个层级都可以直接打印查看"
   ]
  },
  {
   "cell_type": "code",
   "execution_count": null,
   "metadata": {},
   "outputs": [],
   "source": [
    "teach_arm"
   ]
  },
  {
   "cell_type": "code",
   "execution_count": null,
   "metadata": {},
   "outputs": [],
   "source": [
    "teach_arm.robot"
   ]
  },
  {
   "cell_type": "code",
   "execution_count": null,
   "metadata": {},
   "outputs": [],
   "source": [
    "teach_arm.robot.joint_1"
   ]
  },
  {
   "cell_type": "code",
   "execution_count": null,
   "metadata": {},
   "outputs": [],
   "source": [
    "teach_arm.robot.hand"
   ]
  },
  {
   "cell_type": "markdown",
   "metadata": {},
   "source": [
    "## 接着让我们来测试一些功能"
   ]
  },
  {
   "cell_type": "markdown",
   "metadata": {},
   "source": [
    "### 机械臂MoveJ"
   ]
  },
  {
   "cell_type": "code",
   "execution_count": null,
   "metadata": {},
   "outputs": [],
   "source": [
    "teach_arm.robot.set_enable(True)\n",
    "teach_arm.robot.move_j(0, 0, 90, 0, 0, 0)"
   ]
  },
  {
   "cell_type": "markdown",
   "metadata": {},
   "source": [
    "### 获取所有关节角度(获取到的这个角度是电机的关节机械角, 和运动学模型角度之间存在一个固定的offset)"
   ]
  },
  {
   "cell_type": "code",
   "execution_count": 38,
   "metadata": {},
   "outputs": [],
   "source": [
    "joint_offset = np.array([0,-73,180,0,0,0])"
   ]
  },
  {
   "cell_type": "code",
   "execution_count": null,
   "metadata": {},
   "outputs": [],
   "source": []
  },
  {
   "cell_type": "code",
   "execution_count": null,
   "metadata": {},
   "outputs": [],
   "source": [
    "all_joint_angles = teach_arm.robot.joint_1.angle, teach_arm.robot.joint_2.angle, teach_arm.robot.joint_3.angle, teach_arm.robot.joint_4.angle, teach_arm.robot.joint_5.angle, teach_arm.robot.joint_6.angle\n",
    "all_joint_angles = np.round(np.array(all_joint_angles))\n",
    "all_joint_angles = all_joint_angles + joint_offset\n",
    "all_joint_angles"
   ]
  },
  {
   "cell_type": "markdown",
   "metadata": {},
   "source": [
    "### 获取当前末端位姿(旋转使用ZYX欧拉角序列(也称为RPY - Roll, Pitch, Yaw))"
   ]
  },
  {
   "cell_type": "code",
   "execution_count": null,
   "metadata": {},
   "outputs": [],
   "source": [
    "def get_current_pose():\n",
    "    teach_arm.robot.eef_pose.update_pose_6D()\n",
    "    x,y,z,rz,ry,rx = teach_arm.robot.eef_pose.x, teach_arm.robot.eef_pose.y, teach_arm.robot.eef_pose.z, teach_arm.robot.eef_pose.a, teach_arm.robot.eef_pose.b, teach_arm.robot.eef_pose.c\n",
    "    current_pose = np.array([x,y,z,rz,ry,rx])\n",
    "    return current_pose\n",
    "\n",
    "current_pose = get_current_pose()\n",
    "current_pose\n"
   ]
  },
  {
   "cell_type": "markdown",
   "metadata": {},
   "source": [
    "### 机械臂MoveL(直接控制末端在笛卡尔空间运动, 输入单位是mm)"
   ]
  },
  {
   "cell_type": "code",
   "execution_count": null,
   "metadata": {},
   "outputs": [],
   "source": [
    "# 沿着x轴方向移动10mm\n",
    "teach_arm.robot.move_l(current_pose[0]+10, current_pose[1], current_pose[2], current_pose[3], current_pose[4], current_pose[5])\n",
    "current_pose = get_current_pose()\n",
    "current_pose"
   ]
  },
  {
   "cell_type": "code",
   "execution_count": null,
   "metadata": {},
   "outputs": [],
   "source": [
    "# 沿着z轴方向移动10mm\n",
    "teach_arm.robot.move_l(current_pose[0], current_pose[1], current_pose[2]-10, current_pose[3], current_pose[4], current_pose[5])\n",
    "current_pose = get_current_pose()\n",
    "current_pose\n"
   ]
  },
  {
   "cell_type": "markdown",
   "metadata": {},
   "source": [
    "### 归巢"
   ]
  },
  {
   "cell_type": "code",
   "execution_count": 5,
   "metadata": {},
   "outputs": [],
   "source": [
    "teach_arm.robot.resting()"
   ]
  },
  {
   "cell_type": "markdown",
   "metadata": {},
   "source": [
    "### 复位回到home pose"
   ]
  },
  {
   "cell_type": "code",
   "execution_count": null,
   "metadata": {},
   "outputs": [],
   "source": [
    "teach_arm.robot.move_j(0, 0, 90, 0, 0, 0)"
   ]
  },
  {
   "cell_type": "markdown",
   "metadata": {},
   "source": [
    "### 示教臂的夹爪实时位置读取"
   ]
  },
  {
   "cell_type": "code",
   "execution_count": 6,
   "metadata": {},
   "outputs": [],
   "source": [
    "## 让夹爪电机进入零力矩状态\n",
    "teach_arm.robot.hand.set_mode(0)\n",
    "teach_arm.robot.hand.set_torque(0)"
   ]
  },
  {
   "cell_type": "code",
   "execution_count": null,
   "metadata": {},
   "outputs": [],
   "source": [
    "teach_arm.robot.set_enable(False)\n",
    "## 拖动夹爪然后查看角度变化\n",
    "rate = 2  # 50Hz\n",
    "def get_current_pose():\n",
    "    teach_arm.robot.eef_pose.update_pose_6D()\n",
    "    x,y,z,rz,ry,rx = teach_arm.robot.eef_pose.x, teach_arm.robot.eef_pose.y, teach_arm.robot.eef_pose.z, teach_arm.robot.eef_pose.a, teach_arm.robot.eef_pose.b, teach_arm.robot.eef_pose.c\n",
    "    current_pose = np.array([x,y,z,rz,ry,rx])\n",
    "    return current_pose\n",
    "\n",
    "\n",
    "import time\n",
    "while True:\n",
    "    start_time = time.time()\n",
    "    current_pose = get_current_pose()\n",
    "    print(current_pose)\n",
    "    time.sleep(1/rate)\n",
    "    print(teach_arm.robot.hand.angle)"
   ]
  },
  {
   "cell_type": "code",
   "execution_count": null,
   "metadata": {},
   "outputs": [],
   "source": []
  },
  {
   "cell_type": "code",
   "execution_count": null,
   "metadata": {},
   "outputs": [],
   "source": [
    "teach_arm.robot.set_enable(False)\n",
    "import time\n",
    "rate = 0.1  # 10Hz\n",
    "## 让夹爪电机进入零力矩状态\n",
    "teach_arm.robot.hand.set_mode(0)\n",
    "teach_arm.robot.hand.set_torque(0)\n",
    "while True:\n",
    "    start_time = time.time()\n",
    "    joint1_angle = teach_arm.robot.joint_1.angle\n",
    "    joint2_angle = teach_arm.robot.joint_2.angle\n",
    "    joint3_angle = teach_arm.robot.joint_3.angle\n",
    "    joint4_angle = teach_arm.robot.joint_4.angle\n",
    "    joint5_angle = teach_arm.robot.joint_5.angle\n",
    "    joint6_angle = teach_arm.robot.joint_6.angle\n",
    "    # print(f\"Current leader Joints: {joint1_angle}, {joint2_angle}, {joint3_angle}, {joint4_angle}, {joint5_angle}, {joint6_angle}\")\n",
    "    all_joint_angles = np.array([joint1_angle, joint2_angle, joint3_angle, joint4_angle, joint5_angle, joint6_angle]) + joint_offset\n",
    "    all_joint_angles = np.round(all_joint_angles, 0)\n",
    "    # print(\"Current gripper: \",teach_arm.robot.hand.angle)\n",
    "    # joint1_qpos = teach_arm.robot.joint_1.position\n",
    "    joint1_qvel = teach_arm.robot.joint_1.velocity\n",
    "    print( \"qvel: \", joint1_qvel)\n",
    "    joint2_qvel = teach_arm.robot.joint_2.velocity\n",
    "    joint3_qvel = teach_arm.robot.joint_3.velocity\n",
    "    joint4_qvel = teach_arm.robot.joint_4.velocity\n",
    "    joint5_qvel = teach_arm.robot.joint_5.velocity\n",
    "    joint6_qvel = teach_arm.robot.joint_6.velocity\n",
    "    print( \"qvel: \", joint2_qvel, joint3_qvel, joint4_qvel, joint5_qvel, joint6_qvel)\n",
    "    # follow_arm.robot.move_j(all_joint_angles[0], all_joint_angles[1], all_joint_angles[2], all_joint_angles[3], all_joint_angles[4], all_joint_angles[5])\n",
    "    # follow_arm.robot.hand.set_angle(teach_arm.robot.hand.angle - teach_hand_init_angle + follow_hand_init_angle)\n",
    "    # print(f\"Current follower Joints (state): {all_joint_angles}\")\n",
    "    # collector.collect_step(\n",
    "    # teach_joints=np.array([joint1_angle, joint2_angle, joint3_angle, \n",
    "    #                         joint4_angle, joint5_angle, joint6_angle]),\n",
    "    # follow_joints=all_joint_angles,\n",
    "    # teach_gripper=teach_arm.robot.hand.angle,\n",
    "    # follow_gripper=follow_arm.robot.hand.angle\n",
    "    # )\n",
    "    # Sleep precisely to maintain 10Hz\n",
    "    elapsed = time.time() - start_time\n",
    "    if elapsed < rate:\n",
    "        time.sleep(rate - elapsed)\n",
    "    \n",
    "    # Calculate and print actual loop frequency\n",
    "    loop_time = time.time() - start_time\n",
    "    actual_freq = 1.0 / loop_time if loop_time > 0 else 0\n",
    "    print(f\"Current loop frequency: {actual_freq:.2f} Hz\")"
   ]
  },
  {
   "cell_type": "markdown",
   "metadata": {},
   "source": [
    "### 示教臂的夹爪实时力矩读取(即将支持,硬件施工中)"
   ]
  },
  {
   "cell_type": "code",
   "execution_count": null,
   "metadata": {},
   "outputs": [],
   "source": []
  },
  {
   "cell_type": "markdown",
   "metadata": {},
   "source": [
    "### Follow Arm相机测试"
   ]
  },
  {
   "cell_type": "code",
   "execution_count": null,
   "metadata": {},
   "outputs": [],
   "source": [
    "import cv2\n",
    "mjpg_streamer_url = \"http://192.168.65.110:8080/?action=stream\"\n",
    "cap = cv2.VideoCapture(mjpg_streamer_url)\n",
    "while True:\n",
    "    ret, frame = cap.read()\n",
    "    cv2.imshow(\"frame\", frame)\n",
    "    cv2.waitKey(1)\n",
    "cv2.destroyAllWindows()"
   ]
  },
  {
   "cell_type": "code",
   "execution_count": null,
   "metadata": {},
   "outputs": [],
   "source": []
  },
  {
   "cell_type": "markdown",
   "metadata": {},
   "source": [
    "# 校准机械臂初始状态"
   ]
  },
  {
   "cell_type": "code",
   "execution_count": null,
   "metadata": {},
   "outputs": [],
   "source": [
    "from __future__ import print_function\n",
    "import fibre\n",
    "logger = fibre.utils.Logger(verbose=True)\n",
    "SN = \"396636713233\"\n",
    "teach_arm = fibre.find_any(serial_number=SN, logger=logger)"
   ]
  },
  {
   "cell_type": "code",
   "execution_count": 30,
   "metadata": {},
   "outputs": [],
   "source": [
    "teach_arm.robot.resting()"
   ]
  },
  {
   "cell_type": "code",
   "execution_count": null,
   "metadata": {},
   "outputs": [],
   "source": [
    "import numpy as np\n",
    "def get_current_pose():\n",
    "    teach_arm.robot.eef_pose.update_pose_6D()\n",
    "    x,y,z,rz,ry,rx = teach_arm.robot.eef_pose.x, teach_arm.robot.eef_pose.y, teach_arm.robot.eef_pose.z, teach_arm.robot.eef_pose.a, teach_arm.robot.eef_pose.b, teach_arm.robot.eef_pose.c\n",
    "    current_pose = np.array([x,y,z,rz,ry,rx])\n",
    "    return current_pose\n",
    "\n",
    "current_pose = get_current_pose()\n",
    "current_pose\n"
   ]
  },
  {
   "cell_type": "code",
   "execution_count": null,
   "metadata": {},
   "outputs": [],
   "source": [
    "teach_arm.robot.set_enable(True)\n",
    "teach_arm.robot.move_l(current_pose[0], 0.1, current_pose[2], current_pose[3], current_pose[4], current_pose[5])\n",
    "current_pose = get_current_pose()\n",
    "current_pose"
   ]
  },
  {
   "cell_type": "code",
   "execution_count": 43,
   "metadata": {},
   "outputs": [],
   "source": [
    "# Enable motor but disable circle udpate\n",
    "teach_arm.robot.joint_all.set_enable(True)\n",
    "teach_arm.robot.set_enable(False)"
   ]
  },
  {
   "cell_type": "markdown",
   "metadata": {},
   "source": [
    "## 先手动把机械臂挪成L姿态, 然后运行以下代码"
   ]
  },
  {
   "cell_type": "code",
   "execution_count": 44,
   "metadata": {},
   "outputs": [],
   "source": [
    "teach_arm.robot.joint_1.apply_home_offset()\n",
    "teach_arm.robot.joint_2.apply_home_offset()\n",
    "teach_arm.robot.joint_3.apply_home_offset()\n",
    "teach_arm.robot.joint_4.apply_home_offset()\n",
    "teach_arm.robot.joint_5.apply_home_offset()\n",
    "teach_arm.robot.joint_6.apply_home_offset()"
   ]
  },
  {
   "cell_type": "markdown",
   "metadata": {},
   "source": [
    "## 再手动把机械臂挪回休息状态, 然后运行以下代码"
   ]
  },
  {
   "cell_type": "code",
   "execution_count": 45,
   "metadata": {},
   "outputs": [],
   "source": [
    "teach_arm.robot.joint_1.apply_home_offset()\n",
    "teach_arm.robot.joint_2.apply_home_offset()\n",
    "teach_arm.robot.joint_3.apply_home_offset()\n",
    "teach_arm.robot.joint_4.apply_home_offset()\n",
    "teach_arm.robot.joint_5.apply_home_offset()\n",
    "teach_arm.robot.joint_6.apply_home_offset()"
   ]
  },
  {
   "cell_type": "code",
   "execution_count": null,
   "metadata": {},
   "outputs": [],
   "source": [
    "teach_arm.robot.set_enable(True)\n",
    "teach_arm.robot.move_j(0, 0, 90, 0, 55, 0)"
   ]
  },
  {
   "cell_type": "code",
   "execution_count": null,
   "metadata": {},
   "outputs": [],
   "source": [
    "teach_arm.robot.set_enable(True)\n",
    "teach_arm.robot.move_j(-17.21704864501953, 41.4782829284668, 23.368927001953125, 0.0007031249697320163, 70.50114440917969, 2.599015235900879)"
   ]
  },
  {
   "cell_type": "code",
   "execution_count": null,
   "metadata": {},
   "outputs": [],
   "source": [
    "import fibre\n",
    "import numpy as np\n",
    "\n",
    "from __future__ import print_function\n",
    "logger = fibre.utils.Logger(verbose=True)\n",
    "teach_arm = fibre.find_any(serial_number=\"208C31875253\", logger=logger)\n",
    "follow_arm = fibre.find_any(serial_number=\"396636713233\", logger=logger)"
   ]
  },
  {
   "cell_type": "code",
   "execution_count": 68,
   "metadata": {},
   "outputs": [],
   "source": [
    "teach_arm.robot.set_enable(True)\n",
    "teach_arm.robot.hand.set_mode(0)"
   ]
  },
  {
   "cell_type": "code",
   "execution_count": 67,
   "metadata": {},
   "outputs": [],
   "source": [
    "teach_arm.robot.hand.set_angle(27)"
   ]
  },
  {
   "cell_type": "code",
   "execution_count": null,
   "metadata": {},
   "outputs": [],
   "source": [
    "print(teach_arm.robot.hand.angle - follow_arm.robot.hand.angle)"
   ]
  },
  {
   "cell_type": "code",
   "execution_count": 46,
   "metadata": {},
   "outputs": [],
   "source": [
    "teach_arm.robot.hand.set_current_limit(-0.1)"
   ]
  },
  {
   "cell_type": "code",
   "execution_count": 25,
   "metadata": {},
   "outputs": [],
   "source": [
    "teach_arm.robot.hand.set_mode(0)\n",
    "teach_arm.robot.hand.set_torque(0)"
   ]
  },
  {
   "cell_type": "code",
   "execution_count": null,
   "metadata": {},
   "outputs": [],
   "source": [
    "teach_arm.robot.hand.get_current_limit()"
   ]
  },
  {
   "cell_type": "code",
   "execution_count": null,
   "metadata": {},
   "outputs": [],
   "source": [
    "follow_arm.robot.hand.get_current_limit()"
   ]
  },
  {
   "cell_type": "code",
   "execution_count": null,
   "metadata": {},
   "outputs": [],
   "source": [
    "teach_arm.robot.hand.set_mode(2)\n",
    "teach_arm.robot.set_enable(True)\n",
    "teach_arm.robot.hand.set_angle(27)"
   ]
  },
  {
   "cell_type": "code",
   "execution_count": null,
   "metadata": {},
   "outputs": [],
   "source": [
    "teach_arm.robot.hand.angle"
   ]
  },
  {
   "cell_type": "code",
   "execution_count": null,
   "metadata": {},
   "outputs": [],
   "source": [
    "follow_arm = fibre.find_any(serial_number=\"396636713233\", logger=logger)"
   ]
  },
  {
   "cell_type": "code",
   "execution_count": null,
   "metadata": {},
   "outputs": [],
   "source": [
    "print(follow_arm.robot)"
   ]
  },
  {
   "cell_type": "code",
   "execution_count": 7,
   "metadata": {},
   "outputs": [],
   "source": [
    "follow_arm.robot.homing()"
   ]
  },
  {
   "cell_type": "code",
   "execution_count": null,
   "metadata": {},
   "outputs": [],
   "source": [
    "follow_arm.robot.move_j(10,10,92,5,10,10)"
   ]
  },
  {
   "cell_type": "code",
   "execution_count": 11,
   "metadata": {},
   "outputs": [],
   "source": [
    "follow_arm.robot.set_enable(True)"
   ]
  },
  {
   "cell_type": "code",
   "execution_count": null,
   "metadata": {},
   "outputs": [],
   "source": [
    "from __future__ import print_function\n",
    "import fibre\n",
    "logger = fibre.utils.Logger(verbose=True)\n",
    "SN = \"396636713233\"\n",
    "teach_arm = fibre.find_any(serial_number=SN, logger=logger)\n",
    "teach_arm.robot.resting()\n"
   ]
  },
  {
   "cell_type": "code",
   "execution_count": null,
   "metadata": {},
   "outputs": [],
   "source": [
    "teach_arm.robot.set_enable(True)\n",
    "teach_arm.robot.move_j(       -16.527421951293945,\n",
    "      55.114776611328125,\n",
    "      26.215545654296875,\n",
    "      0.0007031249697320163,\n",
    "      69.51187896728516,\n",
    "      3.933046817779541)"
   ]
  },
  {
   "cell_type": "code",
   "execution_count": null,
   "metadata": {},
   "outputs": [],
   "source": [
    "teach_arm.robot.set_enable(True)\n",
    "teach_arm.robot.move_j(       -16.49370574951172,\n",
    "      49.11359405517578,\n",
    "      26.32851791381836,\n",
    "      3.4315928587602684e-06,\n",
    "      71.90644836425781,\n",
    "      3.8402748107910156)"
   ]
  },
  {
   "cell_type": "code",
   "execution_count": null,
   "metadata": {},
   "outputs": [],
   "source": []
  }
 ],
 "metadata": {
  "kernelspec": {
   "display_name": ".venv",
   "language": "python",
   "name": "python3"
  },
  "language_info": {
   "codemirror_mode": {
    "name": "ipython",
    "version": 3
   },
   "file_extension": ".py",
   "mimetype": "text/x-python",
   "name": "python",
   "nbconvert_exporter": "python",
   "pygments_lexer": "ipython3",
   "version": "3.11.11"
  }
 },
 "nbformat": 4,
 "nbformat_minor": 2
}
